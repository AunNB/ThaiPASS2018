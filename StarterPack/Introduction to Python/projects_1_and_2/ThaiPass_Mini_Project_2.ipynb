{
 "cells": [
  {
   "cell_type": "markdown",
   "metadata": {},
   "source": [
    "## ThaiPass Mini Project Two ##\n",
    "\n",
    "For this mini project, we will take a well known equation and turn it into a function so that we can compute the period of orbit of any planet around any star.\n",
    "\n",
    "Keppler's Third Law of Planetarty Motion alows us to calculate the motion of planets in orbit around a star.\n",
    "\n",
    "Your task is to take the following equation:\n",
    "\n",
    "$T^2 = 4\\pi^2 a^3/ GM$\n",
    "\n",
    "Where T is the period of rotation, G is the gravitational constant, M is the mass of the central object and a is the length of the semi-major axis of the elipse.\n",
    "\n",
    "Design a function that, given a and M, gives the period of rotation of a planet."
   ]
  },
  {
   "cell_type": "code",
   "execution_count": null,
   "metadata": {},
   "outputs": [],
   "source": []
  },
  {
   "cell_type": "markdown",
   "metadata": {},
   "source": [
    "Taking this function, determine the orbital period or a planet at distances between 1 AU and 100 AU for 10 masses of stars between 0.1 and 10 times the mass of the sun (**arange** or **linspace** will help with this)"
   ]
  },
  {
   "cell_type": "code",
   "execution_count": null,
   "metadata": {},
   "outputs": [],
   "source": []
  },
  {
   "cell_type": "markdown",
   "metadata": {},
   "source": [
    "Finally, take each of these series of orbital periods for each mass of star, and make a plot of the dependance of T on distance from the star."
   ]
  },
  {
   "cell_type": "code",
   "execution_count": null,
   "metadata": {},
   "outputs": [],
   "source": []
  }
 ],
 "metadata": {
  "kernelspec": {
   "display_name": "Python 3",
   "language": "python",
   "name": "python3"
  },
  "language_info": {
   "codemirror_mode": {
    "name": "ipython",
    "version": 3
   },
   "file_extension": ".py",
   "mimetype": "text/x-python",
   "name": "python",
   "nbconvert_exporter": "python",
   "pygments_lexer": "ipython3",
   "version": "3.6.5"
  }
 },
 "nbformat": 4,
 "nbformat_minor": 2
}
